{
 "cells": [
  {
   "cell_type": "code",
   "execution_count": 1,
   "metadata": {},
   "outputs": [],
   "source": [
    "#COLORACTEL CANCER ABNORMAL TISSUE CLASSIFICATION using 2016 Kather et al.\n",
    "import tensorflow.keras\n",
    "import pdb\n",
    "from tensorflow.keras.layers import BatchNormalization\n",
    "import numpy as np\n",
    "import math\n",
    "from sklearn.model_selection import train_test_split, StratifiedKFold\n",
    "from tensorflow.keras.layers import Dense, Dropout, Activation, Flatten, Conv2D, MaxPooling2D\n",
    "from tensorflow.keras.models import Sequential, Model\n",
    "from tensorflow.keras.layers import Input,Concatenate\n",
    "from tensorflow.keras.preprocessing.image import ImageDataGenerator\n",
    "from tensorflow.keras.callbacks import EarlyStopping, ModelCheckpoint, ReduceLROnPlateau\n",
    "#from tensorflow.keras.utils import np_utils\n",
    "from tensorflow.keras.layers import LeakyReLU\n",
    "%matplotlib inline\n",
    "tensorflow.keras.backend.set_image_data_format('channels_last')\n"
   ]
  },
  {
   "cell_type": "code",
   "execution_count": 2,
   "metadata": {},
   "outputs": [],
   "source": [
    "# Create CNN model\n",
    "model = Sequential()\n",
    "model.add(Conv2D(16, (3, 3),input_shape=(224,224,3),padding='same'))\n",
    "model.add(LeakyReLU(alpha=0.1))\n",
    "model.add(MaxPooling2D((2, 2)))\n",
    "          \n",
    "model.add(Conv2D(16, (3, 3),padding='same'))\n",
    "model.add(LeakyReLU(alpha=0.1))\n",
    "model.add(MaxPooling2D(pool_size=(2, 2),padding='same'))\n",
    "          \n",
    "model.add(Conv2D(32, (3, 3),padding='same'))\n",
    "model.add(LeakyReLU(alpha=0.1))\n",
    "model.add(MaxPooling2D(pool_size=(2, 2),padding='same'))\n",
    "          \n",
    "model.add(Conv2D(32, (3, 3),padding='same'))\n",
    "model.add(LeakyReLU(alpha=0.1))\n",
    "model.add(MaxPooling2D(pool_size=(2, 2),padding='same'))\n",
    "\n",
    "model.add(Conv2D(64, (3, 3),padding='same'))\n",
    "model.add(LeakyReLU(alpha=0.1))\n",
    "model.add(MaxPooling2D(pool_size=(2, 2),padding='same'))\n",
    "          \n",
    "model.add(Conv2D(64, (3, 3),padding='same'))\n",
    "model.add(LeakyReLU(alpha=0.1))\n",
    "model.add(MaxPooling2D(pool_size=(2, 2),padding='same'))\n",
    "\n",
    "model.add(Conv2D(128, (3, 3),padding='same'))\n",
    "model.add(LeakyReLU(alpha=0.1))\n",
    "model.add(MaxPooling2D(pool_size=(2, 2),padding='same'))\n",
    "          \n",
    "model.add(Conv2D(128, (3, 3),padding='same'))\n",
    "model.add(LeakyReLU(alpha=0.1))\n",
    "model.add(MaxPooling2D(pool_size=(2, 2),padding='same'))\n",
    "   \n",
    "model.add(Flatten())\n",
    "model.add(Dense(256, activation='relu'))\n",
    "model.add(Dense(8, activation='softmax'))"
   ]
  },
  {
   "cell_type": "code",
   "execution_count": 3,
   "metadata": {},
   "outputs": [
    {
     "name": "stderr",
     "output_type": "stream",
     "text": [
      "C:\\Users\\tiryakiv\\miniconda3\\envs\\tf-latest\\lib\\site-packages\\tensorflow\\python\\keras\\optimizer_v2\\optimizer_v2.py:374: UserWarning: The `lr` argument is deprecated, use `learning_rate` instead.\n",
      "  warnings.warn(\n"
     ]
    }
   ],
   "source": [
    "from tensorflow.keras import optimizers\n",
    "model.compile(optimizer=optimizers.Adam(lr=1e-3), loss='categorical_crossentropy', metrics=['accuracy']) "
   ]
  },
  {
   "cell_type": "code",
   "execution_count": 4,
   "metadata": {},
   "outputs": [
    {
     "name": "stdout",
     "output_type": "stream",
     "text": [
      "Found 3496 images belonging to 8 classes.\n",
      "Found 752 images belonging to 8 classes.\n"
     ]
    }
   ],
   "source": [
    "# Data augmentation\n",
    "batch_size=4\n",
    "\n",
    "train_datagen = ImageDataGenerator(rescale=1./255,\n",
    "                         horizontal_flip = True,\n",
    "                         vertical_flip = True,\n",
    "                         width_shift_range = 0.2,\n",
    "                         height_shift_range = 0.2,\n",
    "                         zoom_range = 0.2,\n",
    "                         rotation_range = 180,\n",
    "                         shear_range=0.2\n",
    "                        )\n",
    "\n",
    "valid_datagen = ImageDataGenerator(rescale=1./255)\n",
    "\n",
    "train_generator=train_datagen.flow_from_directory('data01/train', \n",
    "                                                 target_size=(224,224),\n",
    "                                                 color_mode='rgb',\n",
    "                                                 batch_size=batch_size,\n",
    "                                                 class_mode='categorical',\n",
    "                                                 shuffle=True)\n",
    "\n",
    "valid_generator = valid_datagen.flow_from_directory('data01/valid', \n",
    "                                                 target_size=(224,224),\n",
    "                                                 color_mode='rgb',\n",
    "                                                 batch_size=batch_size,\n",
    "                                                 class_mode='categorical',\n",
    "                                                 shuffle=True)\n"
   ]
  },
  {
   "cell_type": "code",
   "execution_count": 5,
   "metadata": {},
   "outputs": [],
   "source": [
    "#Callbacks\n",
    "def get_callbacks(name_weights, patience_lr):\n",
    "    mcp_save = ModelCheckpoint(name_weights, save_best_only=True, monitor='val_loss', mode='min')\n",
    "    reduce_lr_loss = ReduceLROnPlateau(monitor='loss', factor=0.1, patience=patience_lr, verbose=2, min_delta=1e-4, mode='min')\n",
    "    early_stop_cr=EarlyStopping(monitor='val_loss', min_delta=1e-4, patience=10, verbose=2, mode='auto', restore_best_weights=True)\n",
    "    return [mcp_save, reduce_lr_loss, early_stop_cr]\n"
   ]
  },
  {
   "cell_type": "code",
   "execution_count": 6,
   "metadata": {},
   "outputs": [
    {
     "name": "stderr",
     "output_type": "stream",
     "text": [
      "C:\\Users\\tiryakiv\\miniconda3\\envs\\tf-latest\\lib\\site-packages\\tensorflow\\python\\keras\\engine\\training.py:1940: UserWarning: `Model.fit_generator` is deprecated and will be removed in a future version. Please use `Model.fit`, which supports generators.\n",
      "  warnings.warn('`Model.fit_generator` is deprecated and '\n"
     ]
    },
    {
     "name": "stdout",
     "output_type": "stream",
     "text": [
      "Epoch 1/200\n",
      "874/874 [==============================] - 166s 180ms/step - loss: 1.3616 - accuracy: 0.3776 - val_loss: 1.3723 - val_accuracy: 0.4189\n",
      "Epoch 2/200\n",
      "874/874 [==============================] - 72s 82ms/step - loss: 1.0590 - accuracy: 0.5200 - val_loss: 0.9109 - val_accuracy: 0.6011\n",
      "Epoch 3/200\n",
      "874/874 [==============================] - 71s 81ms/step - loss: 0.9702 - accuracy: 0.5752 - val_loss: 0.9341 - val_accuracy: 0.6968\n",
      "Epoch 4/200\n",
      "874/874 [==============================] - 71s 82ms/step - loss: 0.8629 - accuracy: 0.6384 - val_loss: 0.7500 - val_accuracy: 0.7713\n",
      "Epoch 5/200\n",
      "874/874 [==============================] - 72s 82ms/step - loss: 0.8052 - accuracy: 0.6739 - val_loss: 0.7291 - val_accuracy: 0.6809\n",
      "Epoch 6/200\n",
      "874/874 [==============================] - 71s 82ms/step - loss: 0.7808 - accuracy: 0.6919 - val_loss: 0.6521 - val_accuracy: 0.7420\n",
      "Epoch 7/200\n",
      "874/874 [==============================] - 71s 82ms/step - loss: 0.7302 - accuracy: 0.7225 - val_loss: 0.6744 - val_accuracy: 0.7394\n",
      "Epoch 8/200\n",
      "874/874 [==============================] - 72s 82ms/step - loss: 0.6778 - accuracy: 0.7471 - val_loss: 0.9014 - val_accuracy: 0.6436\n",
      "Epoch 9/200\n",
      "874/874 [==============================] - 72s 82ms/step - loss: 0.6667 - accuracy: 0.7503 - val_loss: 0.5574 - val_accuracy: 0.7886\n",
      "Epoch 10/200\n",
      "874/874 [==============================] - 72s 82ms/step - loss: 0.6394 - accuracy: 0.7520 - val_loss: 0.5484 - val_accuracy: 0.7899\n",
      "Epoch 11/200\n",
      "874/874 [==============================] - 72s 83ms/step - loss: 0.6358 - accuracy: 0.7632 - val_loss: 0.5546 - val_accuracy: 0.7939\n",
      "Epoch 12/200\n",
      "874/874 [==============================] - 71s 82ms/step - loss: 0.6155 - accuracy: 0.7806 - val_loss: 0.5545 - val_accuracy: 0.8019\n",
      "Epoch 13/200\n",
      "874/874 [==============================] - 72s 82ms/step - loss: 0.5853 - accuracy: 0.7783 - val_loss: 0.6159 - val_accuracy: 0.7646\n",
      "Epoch 14/200\n",
      "874/874 [==============================] - 72s 83ms/step - loss: 0.6010 - accuracy: 0.7809 - val_loss: 0.6611 - val_accuracy: 0.7779\n",
      "Epoch 15/200\n",
      "874/874 [==============================] - 72s 83ms/step - loss: 0.5786 - accuracy: 0.7820 - val_loss: 0.6055 - val_accuracy: 0.7739\n",
      "Epoch 16/200\n",
      "874/874 [==============================] - 72s 82ms/step - loss: 0.5729 - accuracy: 0.7869 - val_loss: 0.5498 - val_accuracy: 0.7912\n",
      "Epoch 17/200\n",
      "874/874 [==============================] - 73s 83ms/step - loss: 0.5610 - accuracy: 0.7932 - val_loss: 0.5905 - val_accuracy: 0.7726\n",
      "Epoch 18/200\n",
      "874/874 [==============================] - 72s 83ms/step - loss: 0.5789 - accuracy: 0.7826 - val_loss: 0.5377 - val_accuracy: 0.7992\n",
      "Epoch 19/200\n",
      "874/874 [==============================] - 72s 83ms/step - loss: 0.6142 - accuracy: 0.7809 - val_loss: 0.8681 - val_accuracy: 0.6649\n",
      "Epoch 20/200\n",
      "874/874 [==============================] - 72s 83ms/step - loss: 0.5730 - accuracy: 0.7900 - val_loss: 0.5313 - val_accuracy: 0.7806\n",
      "Epoch 21/200\n",
      "874/874 [==============================] - 72s 83ms/step - loss: 0.5372 - accuracy: 0.8041 - val_loss: 0.5725 - val_accuracy: 0.7899\n",
      "Epoch 22/200\n",
      "874/874 [==============================] - 72s 82ms/step - loss: 0.5248 - accuracy: 0.8043 - val_loss: 0.5795 - val_accuracy: 0.7766\n",
      "Epoch 23/200\n",
      "874/874 [==============================] - 72s 82ms/step - loss: 0.5434 - accuracy: 0.8015 - val_loss: 0.8548 - val_accuracy: 0.6636\n",
      "Epoch 24/200\n",
      "874/874 [==============================] - 72s 83ms/step - loss: 0.4863 - accuracy: 0.8229 - val_loss: 0.4900 - val_accuracy: 0.8138\n",
      "Epoch 25/200\n",
      "874/874 [==============================] - 72s 83ms/step - loss: 0.5017 - accuracy: 0.8172 - val_loss: 0.5095 - val_accuracy: 0.8125\n",
      "Epoch 26/200\n",
      "874/874 [==============================] - 73s 83ms/step - loss: 0.5686 - accuracy: 0.7929 - val_loss: 0.4856 - val_accuracy: 0.7952\n",
      "Epoch 27/200\n",
      "874/874 [==============================] - 72s 82ms/step - loss: 0.5118 - accuracy: 0.8009 - val_loss: 0.4740 - val_accuracy: 0.8271\n",
      "Epoch 28/200\n",
      "874/874 [==============================] - 72s 82ms/step - loss: 0.5137 - accuracy: 0.8129 - val_loss: 0.5310 - val_accuracy: 0.8112\n",
      "Epoch 29/200\n",
      "874/874 [==============================] - 73s 84ms/step - loss: 0.4801 - accuracy: 0.8221 - val_loss: 0.5122 - val_accuracy: 0.8178\n",
      "Epoch 30/200\n",
      "874/874 [==============================] - 72s 83ms/step - loss: 0.6793 - accuracy: 0.7757 - val_loss: 0.6671 - val_accuracy: 0.7859\n",
      "Epoch 31/200\n",
      "874/874 [==============================] - 72s 83ms/step - loss: 0.4591 - accuracy: 0.8307 - val_loss: 0.4290 - val_accuracy: 0.8378\n",
      "Epoch 32/200\n",
      "874/874 [==============================] - 72s 82ms/step - loss: 0.4718 - accuracy: 0.8218 - val_loss: 0.4345 - val_accuracy: 0.8391\n",
      "Epoch 33/200\n",
      "874/874 [==============================] - 72s 83ms/step - loss: 0.4706 - accuracy: 0.8278 - val_loss: 0.4279 - val_accuracy: 0.8471\n",
      "Epoch 34/200\n",
      "874/874 [==============================] - 71s 81ms/step - loss: 0.4921 - accuracy: 0.8215 - val_loss: 0.4077 - val_accuracy: 0.8484\n",
      "Epoch 35/200\n",
      "874/874 [==============================] - 70s 80ms/step - loss: 0.4496 - accuracy: 0.8287 - val_loss: 0.4413 - val_accuracy: 0.8378\n",
      "Epoch 36/200\n",
      "874/874 [==============================] - 71s 81ms/step - loss: 0.4865 - accuracy: 0.8244 - val_loss: 0.6289 - val_accuracy: 0.7779\n",
      "Epoch 37/200\n",
      "874/874 [==============================] - 71s 81ms/step - loss: 0.4679 - accuracy: 0.8298 - val_loss: 0.3788 - val_accuracy: 0.8551\n",
      "Epoch 38/200\n",
      "874/874 [==============================] - 71s 82ms/step - loss: 0.4454 - accuracy: 0.8387 - val_loss: 0.4185 - val_accuracy: 0.8524\n",
      "Epoch 39/200\n",
      "874/874 [==============================] - 71s 81ms/step - loss: 0.5180 - accuracy: 0.8135 - val_loss: 0.5183 - val_accuracy: 0.8178\n",
      "Epoch 40/200\n",
      "874/874 [==============================] - 71s 81ms/step - loss: 0.4305 - accuracy: 0.8415 - val_loss: 0.3856 - val_accuracy: 0.8551\n",
      "Epoch 41/200\n",
      "874/874 [==============================] - 71s 81ms/step - loss: 0.4689 - accuracy: 0.8338 - val_loss: 0.6366 - val_accuracy: 0.7846\n",
      "Epoch 42/200\n",
      "874/874 [==============================] - 71s 82ms/step - loss: 0.4742 - accuracy: 0.8232 - val_loss: 0.3876 - val_accuracy: 0.8551\n",
      "Epoch 43/200\n",
      "874/874 [==============================] - 71s 81ms/step - loss: 0.4336 - accuracy: 0.8375 - val_loss: 0.5539 - val_accuracy: 0.7952\n",
      "Epoch 44/200\n",
      "874/874 [==============================] - 71s 82ms/step - loss: 0.4452 - accuracy: 0.8364 - val_loss: 0.5340 - val_accuracy: 0.8205\n",
      "Epoch 45/200\n",
      "874/874 [==============================] - 71s 81ms/step - loss: 0.4659 - accuracy: 0.8332 - val_loss: 0.3673 - val_accuracy: 0.8750\n",
      "Epoch 46/200\n",
      "874/874 [==============================] - 71s 82ms/step - loss: 0.4430 - accuracy: 0.8392 - val_loss: 0.3750 - val_accuracy: 0.8710\n",
      "Epoch 47/200\n",
      "874/874 [==============================] - 71s 82ms/step - loss: 0.4381 - accuracy: 0.8493 - val_loss: 0.3822 - val_accuracy: 0.8657\n",
      "Epoch 48/200\n",
      "874/874 [==============================] - 71s 81ms/step - loss: 0.4271 - accuracy: 0.8447 - val_loss: 0.3872 - val_accuracy: 0.8723\n",
      "Epoch 49/200\n",
      "874/874 [==============================] - 72s 82ms/step - loss: 0.4497 - accuracy: 0.8387 - val_loss: 0.5054 - val_accuracy: 0.8298\n",
      "Epoch 50/200\n",
      "874/874 [==============================] - 71s 82ms/step - loss: 0.4166 - accuracy: 0.8501 - val_loss: 0.5622 - val_accuracy: 0.8085\n",
      "Epoch 51/200\n",
      "874/874 [==============================] - 71s 81ms/step - loss: 0.4013 - accuracy: 0.8561 - val_loss: 0.3803 - val_accuracy: 0.8511\n",
      "Epoch 52/200\n",
      "874/874 [==============================] - 68s 78ms/step - loss: 0.4999 - accuracy: 0.8278 - val_loss: 0.6109 - val_accuracy: 0.7779\n",
      "Epoch 53/200\n",
      "874/874 [==============================] - 71s 81ms/step - loss: 0.4550 - accuracy: 0.8227 - val_loss: 0.4262 - val_accuracy: 0.8471\n",
      "Epoch 54/200\n",
      "874/874 [==============================] - 72s 82ms/step - loss: 0.4404 - accuracy: 0.8438 - val_loss: 0.4285 - val_accuracy: 0.8351\n",
      "Epoch 55/200\n",
      "874/874 [==============================] - 72s 82ms/step - loss: 0.4179 - accuracy: 0.8410 - val_loss: 0.4165 - val_accuracy: 0.8404\n",
      "Restoring model weights from the end of the best epoch.\n",
      "Epoch 00055: early stopping\n"
     ]
    },
    {
     "data": {
      "text/plain": [
       "<tensorflow.python.keras.callbacks.History at 0x1d5697cae50>"
      ]
     },
     "execution_count": 6,
     "metadata": {},
     "output_type": "execute_result"
    }
   ],
   "source": [
    "step_size_train=train_generator.n//train_generator.batch_size\n",
    "step_size_valid=valid_generator.n//valid_generator.batch_size\n",
    "\n",
    "name_weights = \"conv8L_CRC_13jan22.h5\"\n",
    "callbacks = get_callbacks(name_weights = name_weights, patience_lr=10)\n",
    "\n",
    "model.fit_generator(generator=train_generator,\n",
    "                   steps_per_epoch=step_size_train,\n",
    "                   validation_steps=step_size_valid,\n",
    "                   validation_data=valid_generator,\n",
    "                   epochs=200,\n",
    "                   verbose=1,\n",
    "                   callbacks = callbacks)"
   ]
  },
  {
   "cell_type": "code",
   "execution_count": 7,
   "metadata": {},
   "outputs": [
    {
     "name": "stdout",
     "output_type": "stream",
     "text": [
      "Found 752 images belonging to 8 classes.\n"
     ]
    },
    {
     "name": "stderr",
     "output_type": "stream",
     "text": [
      "C:\\Users\\tiryakiv\\miniconda3\\envs\\tf-latest\\lib\\site-packages\\tensorflow\\python\\keras\\engine\\training.py:2001: UserWarning: `Model.predict_generator` is deprecated and will be removed in a future version. Please use `Model.predict`, which supports generators.\n",
      "  warnings.warn('`Model.predict_generator` is deprecated and '\n"
     ]
    },
    {
     "name": "stdout",
     "output_type": "stream",
     "text": [
      "Confusion Matrix:\n",
      "[[92  1  0  0  0  1  0  0]\n",
      " [ 0 76 13  0  5  0  0  0]\n",
      " [ 3  6 82  3  0  0  0  0]\n",
      " [ 0  0  8 86  0  0  0  0]\n",
      " [ 1 23  6  0 55  8  1  0]\n",
      " [ 2  0  0  2  3 87  0  0]\n",
      " [ 0  0  0  0  1  0 87  6]\n",
      " [ 0  0  0  0  0  0  1 93]]\n",
      "Accuracy: 0.875\n",
      "One versus rest AUC score: 0.9886745780249628\n"
     ]
    }
   ],
   "source": [
    "# Validation accuracy, validation data confusion matrix, area under the roc score\n",
    "valid_generator = valid_datagen.flow_from_directory('data01/valid', \n",
    "                                                 target_size=(224,224),\n",
    "                                                 color_mode='rgb',\n",
    "                                                 batch_size=batch_size,\n",
    "                                                 class_mode='categorical',\n",
    "                                                 shuffle=False)\n",
    "\n",
    "# Ref: https://gist.github.com/RyanAkilos/3808c17f79e77c4117de35aa68447045 accessed on 5 Feb 2020\n",
    "from sklearn.metrics import precision_score, recall_score, confusion_matrix, accuracy_score, roc_auc_score\n",
    "\n",
    "#https://github.com/bhattbhavesh91/imbalance_class_sklearn/blob/master/imbalance_class_undersampling_oversampling.ipynb\n",
    "\n",
    "Y_pred = model.predict_generator(valid_generator)\n",
    "y_pred=np.argmax(Y_pred,axis=1)\n",
    "\n",
    "ras=roc_auc_score(valid_generator.classes, Y_pred,multi_class='ovr')\n",
    "print('Confusion Matrix:')\n",
    "print(confusion_matrix(valid_generator.classes, y_pred))\n",
    "print('Accuracy:', accuracy_score(valid_generator.classes, y_pred))\n",
    "print('One versus rest AUC score:', ras)"
   ]
  },
  {
   "cell_type": "code",
   "execution_count": null,
   "metadata": {},
   "outputs": [],
   "source": []
  }
 ],
 "metadata": {
  "kernelspec": {
   "display_name": "Python 3.7 (tensorflow)",
   "language": "python",
   "name": "tensorflow"
  },
  "language_info": {
   "codemirror_mode": {
    "name": "ipython",
    "version": 3
   },
   "file_extension": ".py",
   "mimetype": "text/x-python",
   "name": "python",
   "nbconvert_exporter": "python",
   "pygments_lexer": "ipython3",
   "version": "3.7.6"
  },
  "widgets": {
   "state": {},
   "version": "1.1.2"
  }
 },
 "nbformat": 4,
 "nbformat_minor": 4
}
